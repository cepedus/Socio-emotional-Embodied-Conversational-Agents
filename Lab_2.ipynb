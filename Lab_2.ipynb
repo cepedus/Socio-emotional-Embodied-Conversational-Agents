{
 "cells": [
  {
   "cell_type": "markdown",
   "id": "incredible-tennessee",
   "metadata": {},
   "source": [
    "# Developing the Deep Learning Model for Upper Facial Gestures Generation\n",
    "\n",
    "***Author: Martín Cepeda***"
   ]
  },
  {
   "cell_type": "code",
   "execution_count": 1,
   "id": "deluxe-video",
   "metadata": {},
   "outputs": [
    {
     "name": "stdout",
     "output_type": "stream",
     "text": [
      "Imported pydotplus\n"
     ]
    }
   ],
   "source": [
    "import os\n",
    "from glob import glob\n",
    "import numpy as np\n",
    "import pandas as pd\n",
    "from matplotlib import pyplot as plt\n",
    "from tqdm import tqdm\n",
    "\n",
    "import tensorflow as tf\n",
    "from tensorflow import keras\n",
    "\n",
    "\n",
    "%matplotlib inline"
   ]
  },
  {
   "cell_type": "code",
   "execution_count": 2,
   "id": "minor-membership",
   "metadata": {},
   "outputs": [
    {
     "name": "stdout",
     "output_type": "stream",
     "text": [
      "Num GPUs Available:  0\n"
     ]
    }
   ],
   "source": [
    "print(\"Num GPUs Available: \", len(tf.config.experimental.list_physical_devices('GPU')))"
   ]
  },
  {
   "cell_type": "markdown",
   "id": "experienced-values",
   "metadata": {},
   "source": [
    "## Path setup\n",
    "\n",
    "This section sets the relative paths to:\n",
    "\n",
    "- Search for feature CSVs computed in Lab 1\n",
    "- Set paths for saving model checkpoints and training history"
   ]
  },
  {
   "cell_type": "code",
   "execution_count": 3,
   "id": "democratic-corrections",
   "metadata": {},
   "outputs": [],
   "source": [
    "here = os.getcwd()\n",
    "\n",
    "video_dir = os.path.join(here, \"data\")\n",
    "audio_dir = os.path.join(video_dir, \"audios\")\n",
    "audio_features_dir = os.path.join(video_dir, \"audio_features\")\n",
    "face_features_dir = os.path.join(video_dir, \"face_features\")\n",
    "\n",
    "figures_dir = os.path.join(here, \"figures\", \"lab1\")\n",
    "merged_features_dir = os.path.join(video_dir, \"merged_features\")\n",
    "model_data_dir = os.path.join(video_dir, \"clean_data\")\n",
    "\n",
    "video_ids = [os.path.split(file)[1][:-4] for file in glob(os.path.join(video_dir, \"*.mp4\"))]\n",
    "\n",
    "debug_dir = os.path.join(here, \"debug\")\n",
    "model_dir = os.path.join(debug_dir, \"model\")\n",
    "history_dir = os.path.join(debug_dir, \"history\")\n",
    "\n",
    "os.makedirs(model_dir, exist_ok=True)\n",
    "os.makedirs(history_dir, exist_ok=True)"
   ]
  },
  {
   "cell_type": "markdown",
   "id": "elder-cowboy",
   "metadata": {},
   "source": [
    "These 2 flags indicate:\n",
    "- Whether a clean, merged CSV exists for audio and video features\n",
    "- Whether the seq2seq model needs to be retrained (otherwise loads model weights from disk)"
   ]
  },
  {
   "cell_type": "code",
   "execution_count": 4,
   "id": "going-equivalent",
   "metadata": {},
   "outputs": [],
   "source": [
    "CLEAN_EXIST = True\n",
    "RETRAIN = False"
   ]
  },
  {
   "cell_type": "code",
   "execution_count": 5,
   "id": "alert-campus",
   "metadata": {},
   "outputs": [
    {
     "name": "stdout",
     "output_type": "stream",
     "text": [
      "Available video IDs:\n"
     ]
    },
    {
     "data": {
      "text/plain": [
       "['k4vzhweOefs',\n",
       " 'lr-mXnUoUXM',\n",
       " 'O6jrLgvCUNs',\n",
       " 'ovKqmRyOGcg',\n",
       " 'psN1DORYYV0',\n",
       " 'tZYkjaKNr_o',\n",
       " 'XE_FPEFpHt4',\n",
       " 'yCm9Ng0bbEQ',\n",
       " 'zawpbVpu5nY',\n",
       " 'ZdDjexbxVzM']"
      ]
     },
     "execution_count": 5,
     "metadata": {},
     "output_type": "execute_result"
    }
   ],
   "source": [
    "print('Available video IDs:')\n",
    "\n",
    "video_ids"
   ]
  },
  {
   "cell_type": "markdown",
   "id": "spoken-ranking",
   "metadata": {},
   "source": [
    "## Import data\n",
    "We first read the merged dataframes computed in Lab 1 and we keep only relevant columns (F0 and other prosodic features for audio and Action Units intensity for video "
   ]
  },
  {
   "cell_type": "code",
   "execution_count": 6,
   "id": "choice-marriage",
   "metadata": {},
   "outputs": [],
   "source": [
    "def read_merged_features(video_id, dir_=merged_features_dir):\n",
    "    csv_path = os.path.join(merged_features_dir, f\"{video_id}.csv\")\n",
    "    df = pd.read_csv(csv_path, \n",
    "                     sep=\",\", \n",
    "                     dtype={\n",
    "                         \"face_id\": int,\n",
    "                     })\n",
    "    # Remove spaces from column names\n",
    "    df.columns = df.columns.str.strip()\n",
    "    # Extract only relevant features for TD2: F0, MFCC, Jitter, Shimmer, HNR, AUs 1 to 7\n",
    "    cols_to_keep = ['timestamp', 'F0raw', 'F0final', 'mfcc[0]', 'mfcc[1]', 'mfcc[2]',\n",
    "                    'mfcc[3]', 'mfcc[4]', 'mfcc[5]', 'mfcc[6]', 'mfcc[7]', \n",
    "                    'mfcc[8]', 'mfcc[9]', 'mfcc[10]', 'mfcc[11]', 'mfcc[12]', \n",
    "                    'mfcc[13]', 'mfcc[14]', 'jitterLocal', 'shimmerLocal', 'HNR', \n",
    "                    'AU01_r', 'AU02_r', 'AU04_r', 'AU05_r', 'AU06_r', 'AU07_r']\n",
    "    \n",
    "    df = df[cols_to_keep]\n",
    "    \n",
    "    return df"
   ]
  },
  {
   "cell_type": "markdown",
   "id": "critical-revelation",
   "metadata": {},
   "source": [
    "Read and clean dataframes (according to the previously defined features)"
   ]
  },
  {
   "cell_type": "code",
   "execution_count": 7,
   "id": "whole-bulgaria",
   "metadata": {},
   "outputs": [
    {
     "name": "stdout",
     "output_type": "stream",
     "text": [
      "Loading existing clean data...\n"
     ]
    },
    {
     "name": "stderr",
     "output_type": "stream",
     "text": [
      "100%|██████████████████████████████████████████████████████████████████████████████████| 10/10 [01:51<00:00, 11.16s/it]\n"
     ]
    }
   ],
   "source": [
    "dfs_merged = []\n",
    "if not CLEAN_EXIST:\n",
    "    print('Loading raw data, cleaning & saving...', flush=True)\n",
    "    os.makedirs(model_data_dir, exist_ok=True)\n",
    "    for video_id in tqdm(video_ids):\n",
    "        df_i = read_merged_features(video_id)\n",
    "        dfs_merged.append(df_i)\n",
    "        \n",
    "        csv_fname = f'{video_id}.csv'\n",
    "        path_csv_i = os.path.join(model_data_dir, csv_fname)\n",
    "        df_i.to_csv(path_csv_i, index=False)\n",
    "else:\n",
    "    print('Loading existing clean data...', flush=True)\n",
    "    for video_id in tqdm(video_ids):\n",
    "        df_i = read_merged_features(video_id, dir_=model_data_dir)\n",
    "        dfs_merged.append(df_i)"
   ]
  },
  {
   "cell_type": "code",
   "execution_count": 8,
   "id": "south-polish",
   "metadata": {
    "scrolled": false
   },
   "outputs": [
    {
     "name": "stdout",
     "output_type": "stream",
     "text": [
      "Available features\n",
      "\ttimestamp\n",
      "\tF0raw\n",
      "\tF0final\n",
      "\tmfcc[0]\n",
      "\tmfcc[1]\n",
      "\tmfcc[2]\n",
      "\tmfcc[3]\n",
      "\tmfcc[4]\n",
      "\tmfcc[5]\n",
      "\tmfcc[6]\n",
      "\tmfcc[7]\n",
      "\tmfcc[8]\n",
      "\tmfcc[9]\n",
      "\tmfcc[10]\n",
      "\tmfcc[11]\n",
      "\tmfcc[12]\n",
      "\tmfcc[13]\n",
      "\tmfcc[14]\n",
      "\tjitterLocal\n",
      "\tshimmerLocal\n",
      "\tHNR\n",
      "\tAU01_r\n",
      "\tAU02_r\n",
      "\tAU04_r\n",
      "\tAU05_r\n",
      "\tAU06_r\n",
      "\tAU07_r\n",
      "Video lengths (frames)\n",
      "\tk4vzhweOefs: 75901\n",
      "\tlr-mXnUoUXM: 74226\n",
      "\tO6jrLgvCUNs: 55754\n",
      "\tovKqmRyOGcg: 26182\n",
      "\tpsN1DORYYV0: 71402\n",
      "\ttZYkjaKNr_o: 40213\n",
      "\tXE_FPEFpHt4: 35541\n",
      "\tyCm9Ng0bbEQ: 56343\n",
      "\tzawpbVpu5nY: 43698\n",
      "\tZdDjexbxVzM: 15395\n"
     ]
    }
   ],
   "source": [
    "print(\"Available features\")\n",
    "[print(f'\\t{i}') for i in list(dfs_merged[0].columns)];\n",
    "print(\"Video lengths (frames)\")\n",
    "[print(f'\\t{video_ids[i]}: {len(df)}') for i, df in enumerate(dfs_merged)];"
   ]
  },
  {
   "cell_type": "markdown",
   "id": "similar-cotton",
   "metadata": {},
   "source": [
    "## Preprocess data\n",
    "\n",
    "For this Lab we'll work only with F0 as feature and we'll try to predict the Action units"
   ]
  },
  {
   "cell_type": "code",
   "execution_count": 9,
   "id": "familiar-sugar",
   "metadata": {},
   "outputs": [],
   "source": [
    "AU_columns = ['AU01_r', 'AU02_r', 'AU04_r', 'AU05_r', 'AU06_r', 'AU07_r']\n",
    "STEP_SIZE_AU = 0.2\n",
    "STEP_SIZE_F0 = 0.1\n",
    "F0_COLUMN = 'F0final'"
   ]
  },
  {
   "cell_type": "markdown",
   "id": "double-liberia",
   "metadata": {},
   "source": [
    "We define a quantization function for AU intensity following the formula:\n",
    "$$Q_\\Delta(x) = \\Delta\\cdot\\left \\lfloor{\\frac{x}{\\Delta}+\\frac{1}{2}}\\right \\rfloor $$\n",
    "\n",
    "Which rounds $x$ to the nearest multiple of $\\Delta$"
   ]
  },
  {
   "cell_type": "code",
   "execution_count": 10,
   "id": "fixed-correspondence",
   "metadata": {},
   "outputs": [],
   "source": [
    "def quantize(x, step=0.1):\n",
    "    assert step > 0.0\n",
    "    return np.round(step*np.floor(x/step +0.5), 1)"
   ]
  },
  {
   "cell_type": "markdown",
   "id": "orange-space",
   "metadata": {},
   "source": [
    "We quantize AUs and F0 (and also clipping the latter between 50 and 550). We reset indexes in dataframes to proper slicing after"
   ]
  },
  {
   "cell_type": "code",
   "execution_count": 11,
   "id": "conscious-india",
   "metadata": {},
   "outputs": [],
   "source": [
    "max_AU = 0.0\n",
    "unique_f0 = set()\n",
    "for i, video_id in enumerate(video_ids):\n",
    "    df = dfs_merged[i]\n",
    "    df[AU_columns] = df[AU_columns].applymap(lambda x: quantize(x, STEP_SIZE_AU))\n",
    "    df[F0_COLUMN] = df[F0_COLUMN].apply(lambda x: quantize(np.clip(x, 50, 550), STEP_SIZE_F0))\n",
    "    df.reset_index(drop=True, inplace=True)\n",
    "    unique_f0 = unique_f0.union(df[F0_COLUMN].values)\n",
    "    max_AU = max(max_AU, df[AU_columns].values.max())"
   ]
  },
  {
   "cell_type": "markdown",
   "id": "compact-light",
   "metadata": {},
   "source": [
    "Make ID_to_feature and ID_to_F0 dictionaries and their inverses in order to codify/decodify sequences"
   ]
  },
  {
   "cell_type": "code",
   "execution_count": 12,
   "id": "neither-brain",
   "metadata": {},
   "outputs": [],
   "source": [
    "## AU processing\n",
    "values_AU = np.array([np.around(i*STEP_SIZE_AU, 1) for i in range(int(max_AU/STEP_SIZE_AU)+1)])\n",
    "\n",
    "ID_to_AU = {i+2: value for i, value in enumerate(values_AU)}\n",
    "ID_to_AU[0] = 'SOS'\n",
    "ID_to_AU[1] = 'EOS'\n",
    "ID_to_AU = dict(sorted(ID_to_AU.items(), key=lambda item: item[0]))   \n",
    "\n",
    "one_hots_AU = keras.utils.to_categorical(range(len(values_AU)))\n",
    "\n",
    "# Make reverse_search dictionaries\n",
    "AU_to_ID = {v:k for k, v in ID_to_AU.items()}\n",
    "\n",
    "## F0 processing\n",
    "ID_to_F0 = {i+2: value for i, value in enumerate(sorted(list(unique_f0)))}\n",
    "ID_to_F0[0] = 'SOS'\n",
    "ID_to_F0[1] = 'EOS'\n",
    "ID_to_F0 = dict(sorted(ID_to_F0.items(), key=lambda item: item[0]))\n",
    "\n",
    "F0_to_ID = {v:k for k, v in ID_to_F0.items()}\n",
    "\n",
    "# one_hots_F0 = keras.utils.to_categorical(range(len(unique_f0)))"
   ]
  },
  {
   "cell_type": "markdown",
   "id": "violent-welcome",
   "metadata": {},
   "source": [
    "We make sequences from the different videos. Each sequence has a fixed lenght `SEQ_LEN` and a fixed overlap length with its neighbors `SEQ_OVERLAP`. In case of bad multiplicity, we pad last sequence until `SEQ_LEN`"
   ]
  },
  {
   "cell_type": "code",
   "execution_count": 13,
   "id": "serious-serve",
   "metadata": {},
   "outputs": [],
   "source": [
    "SEQ_LEN = 100\n",
    "SEQ_OVERLAP = 20\n",
    "\n",
    "FEATURE_COLS = ['F0final']\n",
    "\n",
    "sequences_features = []\n",
    "sequences_predict = []\n",
    "for df in dfs_merged:\n",
    "    l = len(df)\n",
    "    current_i = 0\n",
    "    while current_i + SEQ_LEN <= l:\n",
    "        # Sequence limits\n",
    "        id_i = current_i\n",
    "        id_f = current_i + SEQ_LEN\n",
    "        # Update current i\n",
    "        current_i = current_i + SEQ_LEN - SEQ_OVERLAP \n",
    "        \n",
    "        # Get data\n",
    "        sequences_features.append(df[id_i:id_f][FEATURE_COLS].values)\n",
    "        sequences_predict.append(df[id_i:id_f][AU_columns].values)   \n",
    "    \n",
    "    # Handle last window with padding\n",
    "    if current_i != l - SEQ_OVERLAP:\n",
    "        last_frame_features = np.zeros((SEQ_LEN, len(FEATURE_COLS)))\n",
    "        last_frame_predict = np.zeros((SEQ_LEN, len(AU_columns)))\n",
    "        \n",
    "        last_frame_features[:l-current_i, :] = df[current_i:][FEATURE_COLS].values\n",
    "        last_frame_predict[:l-current_i, :] = df[current_i:][AU_columns].values\n",
    "        \n",
    "        # Fix F0\n",
    "        for i, f in enumerate(FEATURE_COLS):\n",
    "            if 'F0' in f:\n",
    "                last_frame_features[:,i] = np.clip(last_frame_features[:,i], 50, 550)\n",
    "        \n",
    "        # Add last frame\n",
    "        sequences_features.append(last_frame_features)\n",
    "        sequences_predict.append(last_frame_predict)\n",
    "\n",
    "sequences_indexes = list(range(len(sequences_features)))\n",
    "sequences_features = np.array(sequences_features)\n",
    "sequences_predict = np.array(sequences_predict)"
   ]
  },
  {
   "cell_type": "code",
   "execution_count": 14,
   "id": "periodic-satellite",
   "metadata": {},
   "outputs": [
    {
     "data": {
      "text/plain": [
       "(6187, 100, 1)"
      ]
     },
     "execution_count": 14,
     "metadata": {},
     "output_type": "execute_result"
    }
   ],
   "source": [
    "sequences_features.shape"
   ]
  },
  {
   "cell_type": "code",
   "execution_count": 15,
   "id": "qualified-franklin",
   "metadata": {},
   "outputs": [
    {
     "data": {
      "text/plain": [
       "(6187, 100, 6)"
      ]
     },
     "execution_count": 15,
     "metadata": {},
     "output_type": "execute_result"
    }
   ],
   "source": [
    "sequences_predict.shape"
   ]
  },
  {
   "cell_type": "markdown",
   "id": "verbal-passion",
   "metadata": {},
   "source": [
    "Divide in train, val, test (val for the moment is 0% as it will be automatically handled in the training loop by Keras)"
   ]
  },
  {
   "cell_type": "code",
   "execution_count": 16,
   "id": "aging-string",
   "metadata": {},
   "outputs": [
    {
     "name": "stdout",
     "output_type": "stream",
     "text": [
      "Train sequences:(5568, 100, 1), (5568, 100, 6)\n",
      "Validation sequences:(0, 100, 1), (0, 100, 6)\n",
      "Test sequences:(619, 100, 1), (619, 100, 6)\n"
     ]
    }
   ],
   "source": [
    "TRAIN_PROP = 0.9\n",
    "VAL_PROP = 0.0\n",
    "TEST_PROP = 0.1\n",
    "\n",
    "assert TRAIN_PROP + VAL_PROP + TEST_PROP - 1 < 1e-6\n",
    "\n",
    "\n",
    "sequences_indexes = np.random.permutation(sequences_indexes)\n",
    "train_end = int(TRAIN_PROP * len(sequences_indexes))\n",
    "validate_end = int(VAL_PROP * len(sequences_indexes)) + train_end\n",
    "\n",
    "train_X, train_y = sequences_features[:train_end,:,:], sequences_predict[:train_end,:,:]\n",
    "val_X, val_y = sequences_features[train_end:validate_end,:,:], sequences_predict[train_end:validate_end,:,:]\n",
    "test_X, test_y = sequences_features[validate_end:,:,:], sequences_predict[validate_end:,:,:]\n",
    "\n",
    "print(f'Train sequences:{train_X.shape}, {train_y.shape}')\n",
    "print(f'Validation sequences:{val_X.shape}, {val_y.shape}')\n",
    "print(f'Test sequences:{test_X.shape}, {test_y.shape}')"
   ]
  },
  {
   "cell_type": "markdown",
   "id": "smooth-supply",
   "metadata": {},
   "source": [
    "## seq2seq with Teacher Forcing Mode\n",
    "\n",
    "We define first the hyperparameters for training our **very simple** LSTM seq2seq model"
   ]
  },
  {
   "cell_type": "code",
   "execution_count": 17,
   "id": "divine-deficit",
   "metadata": {},
   "outputs": [],
   "source": [
    "batch_size = 64  # Batch size for training.\n",
    "epochs = 10  # Number of epochs to train for.\n",
    "latent_dim = 128  # Latent dimensionality of the encoding space.\n",
    "num_samples = len(train_X)  # Number of samples to train on."
   ]
  },
  {
   "cell_type": "markdown",
   "id": "restricted-wealth",
   "metadata": {},
   "source": [
    "Following the tutorial available [here](https://keras.io/examples/nlp/lstm_seq2seq/), we define our characters as the discretized values for AUs and F0. We rename the previously computed search dictonaries. As we define `SOS` and `EOS` tokens, we sum 2 to the number of tokens computed as the lenghth of different values."
   ]
  },
  {
   "cell_type": "code",
   "execution_count": 18,
   "id": "portuguese-segment",
   "metadata": {},
   "outputs": [],
   "source": [
    "input_characters = sorted(list(unique_f0))\n",
    "target_characters = sorted(list(values_AU))\n",
    "num_encoder_tokens = len(input_characters) + 2\n",
    "num_decoder_tokens = len(target_characters) + 2\n",
    "max_encoder_seq_length = SEQ_LEN\n",
    "max_decoder_seq_length = SEQ_LEN\n",
    "\n",
    "input_token_index = F0_to_ID\n",
    "target_token_index = AU_to_ID"
   ]
  },
  {
   "cell_type": "markdown",
   "id": "recreational-topic",
   "metadata": {},
   "source": [
    "### Encode data\n",
    "\n",
    "This part implements a classical 1-hot encoding of sequences with teacher forcing mode between input and targets for training/val and test data. We add also the stop token `EOS` "
   ]
  },
  {
   "cell_type": "code",
   "execution_count": 19,
   "id": "pharmaceutical-subsection",
   "metadata": {},
   "outputs": [],
   "source": [
    "encoder_input_data = np.zeros(\n",
    "    (len(train_X), max_encoder_seq_length, num_encoder_tokens), dtype=\"float32\"\n",
    ")\n",
    "\n",
    "decoder_input_data = np.zeros(\n",
    "    (len(train_X), max_decoder_seq_length, num_decoder_tokens), dtype=\"float32\"\n",
    ")\n",
    "decoder_target_data = np.zeros(\n",
    "    (len(train_X), max_decoder_seq_length, num_decoder_tokens), dtype=\"float32\"\n",
    ")\n",
    "\n",
    "test_input_data = np.zeros(\n",
    "    (len(test_X), max_encoder_seq_length, num_encoder_tokens), dtype=\"float32\"\n",
    ")\n",
    "\n",
    "test_dec_input_data = np.zeros(\n",
    "    (len(test_X), max_decoder_seq_length, num_decoder_tokens), dtype=\"float32\"\n",
    ")\n",
    "test_target_data = np.zeros(\n",
    "    (len(test_y), max_decoder_seq_length, num_decoder_tokens), dtype=\"float32\"\n",
    ")\n",
    "\n",
    "\n",
    "\n",
    "for i in range(num_samples):\n",
    "    X_i, y_i = train_X[i], train_y[i, :, 0]\n",
    "    for t, char in enumerate(X_i):\n",
    "#         print(t, char)\n",
    "        encoder_input_data[i, t, input_token_index[char[0]]] = 1.0\n",
    "    encoder_input_data[i, t + 1 :, input_token_index['EOS']] = 1.0\n",
    "    for t, char in enumerate(y_i):\n",
    "#         print(t, char)\n",
    "        # decoder_target_data is ahead of decoder_input_data by one timestep\n",
    "        decoder_input_data[i, t, target_token_index[char]] = 1.0\n",
    "        if t > 0:\n",
    "            # decoder_target_data will be ahead by one timestep\n",
    "            # and will not include the start character.\n",
    "            decoder_target_data[i, t - 1, target_token_index[char]] = 1.0\n",
    "    decoder_input_data[i, t + 1 :, target_token_index['EOS']] = 1.0\n",
    "    decoder_target_data[i, t:, target_token_index['EOS']] = 1.0\n",
    "    \n",
    "for i in range(len(test_X)):\n",
    "    X_i, y_i = test_X[i], test_y[i, :, 0]\n",
    "    for t, char in enumerate(X_i):\n",
    "#         print(t, char)\n",
    "        test_input_data[i, t, input_token_index[char[0]]] = 1.0\n",
    "    test_input_data[i, t + 1 :, input_token_index['EOS']] = 1.0\n",
    "    for t, char in enumerate(y_i):\n",
    "#         print(t, char)\n",
    "        # decoder_target_data is ahead of decoder_input_data by one timestep\n",
    "        test_dec_input_data[i, t, target_token_index[char]] = 1.0\n",
    "        if t > 0:\n",
    "            # decoder_target_data will be ahead by one timestep\n",
    "            # and will not include the start character.\n",
    "            test_target_data[i, t - 1, target_token_index[char]] = 1.0\n",
    "    test_dec_input_data[i, t + 1 :, target_token_index['EOS']] = 1.0\n",
    "    test_target_data[i, t:, target_token_index['EOS']] = 1.0"
   ]
  },
  {
   "cell_type": "code",
   "execution_count": 20,
   "id": "endless-lottery",
   "metadata": {},
   "outputs": [
    {
     "name": "stdout",
     "output_type": "stream",
     "text": [
      "Number of samples: 5568\n",
      "Number of unique input tokens: 3919\n",
      "Number of unique output tokens: 28\n",
      "Max sequence length for inputs: 100\n",
      "Max sequence length for outputs: 100\n"
     ]
    }
   ],
   "source": [
    "print(\"Number of samples:\", len(train_X))\n",
    "print(\"Number of unique input tokens:\", num_encoder_tokens)\n",
    "print(\"Number of unique output tokens:\", num_decoder_tokens)\n",
    "print(\"Max sequence length for inputs:\", max_encoder_seq_length)\n",
    "print(\"Max sequence length for outputs:\", max_decoder_seq_length)"
   ]
  },
  {
   "cell_type": "markdown",
   "id": "statistical-motorcycle",
   "metadata": {},
   "source": [
    "### Model\n",
    "\n",
    "The model consists of 1 LSTM encoder layer and 1 LSTM decoder layer. We keep the model simple to fix ideas"
   ]
  },
  {
   "cell_type": "code",
   "execution_count": 21,
   "id": "awful-capability",
   "metadata": {},
   "outputs": [],
   "source": [
    "# Define an input sequence and process it.\n",
    "encoder_inputs = keras.Input(shape=(None, num_encoder_tokens))\n",
    "encoder = keras.layers.LSTM(latent_dim, return_state=True)\n",
    "encoder_outputs, state_h, state_c = encoder(encoder_inputs)\n",
    "\n",
    "# We discard `encoder_outputs` and only keep the states.\n",
    "encoder_states = [state_h, state_c]\n",
    "\n",
    "# Set up the decoder, using `encoder_states` as initial state.\n",
    "decoder_inputs = keras.Input(shape=(None, num_decoder_tokens))\n",
    "\n",
    "# We set up our decoder to return full output sequences,\n",
    "# and to return internal states as well. We don't use the\n",
    "# return states in the training model, but we will use them in inference.\n",
    "decoder_lstm = keras.layers.LSTM(latent_dim, return_sequences=True, return_state=True)\n",
    "decoder_outputs, _, _ = decoder_lstm(decoder_inputs, initial_state=encoder_states)\n",
    "decoder_dense = keras.layers.Dense(num_decoder_tokens, activation=\"softmax\")\n",
    "decoder_outputs = decoder_dense(decoder_outputs)\n",
    "\n",
    "# Define the model that will turn\n",
    "# `encoder_input_data` & `decoder_input_data` into `decoder_target_data`\n",
    "model = keras.Model([encoder_inputs, decoder_inputs], decoder_outputs)"
   ]
  },
  {
   "cell_type": "code",
   "execution_count": 28,
   "id": "included-watershed",
   "metadata": {},
   "outputs": [
    {
     "data": {
      "image/png": "[encoded data removed]",
      "text/plain": [
       "<IPython.core.display.Image object>"
      ]
     },
     "execution_count": 28,
     "metadata": {},
     "output_type": "execute_result"
    }
   ],
   "source": [
    "import pydotplus as pydot\n",
    "\n",
    "tf.keras.utils.plot_model(model)"
   ]
  },
  {
   "cell_type": "markdown",
   "id": "apart-diversity",
   "metadata": {},
   "source": [
    "We define a custon callback to save the model weights at the end of each epoch"
   ]
  },
  {
   "cell_type": "code",
   "execution_count": 23,
   "id": "silent-meeting",
   "metadata": {},
   "outputs": [],
   "source": [
    "class EpochSaver(tf.keras.callbacks.Callback):\n",
    "    def on_epoch_end(self, epoch, logs={}):\n",
    "        model_dir = os.path.join(debug_dir, \"model\")\n",
    "        self.model.save(os.path.join(model_dir, f\"simpleLSTM_{epoch}.h5\"))"
   ]
  },
  {
   "cell_type": "markdown",
   "id": "sized-occurrence",
   "metadata": {},
   "source": [
    "Training/weight loading routine. We use RMSprop optimizer with the default settings and Categorial Cross-entropy loss"
   ]
  },
  {
   "cell_type": "code",
   "execution_count": 24,
   "id": "valid-system",
   "metadata": {},
   "outputs": [
    {
     "name": "stdout",
     "output_type": "stream",
     "text": [
      "Loading model from disk\n"
     ]
    }
   ],
   "source": [
    "if RETRAIN:\n",
    "    saver = EpochSaver()\n",
    "\n",
    "    model.compile(\n",
    "        optimizer=\"rmsprop\", loss=\"categorical_crossentropy\", metrics=[\"accuracy\"]\n",
    "    )\n",
    "    history = model.fit(\n",
    "        [encoder_input_data, decoder_input_data],\n",
    "        decoder_target_data,\n",
    "        batch_size=batch_size,\n",
    "        epochs=epochs,\n",
    "        validation_split=0.11,\n",
    "        callbacks=[saver],\n",
    "    )\n",
    "    # Save model and training history\n",
    "    model.save(os.path.join(model_dir, \"simpleLSTM_final.h5\"))\n",
    "    np.save(os.path.join(history_dir, \"simpleLSTM_history.npy\"),history)\n",
    "\n",
    "else:\n",
    "    print('Loading model from disk')\n",
    "    model = keras.models.load_model((os.path.join(model_dir, \"simpleLSTM_final.h5\")))\n",
    "    history=np.load(os.path.join(history_dir, \"simpleLSTM_history.npy\"),allow_pickle=True).item()"
   ]
  },
  {
   "cell_type": "markdown",
   "id": "fluid-latino",
   "metadata": {},
   "source": [
    "We plot the training and validation loss over 10 epochs. "
   ]
  },
  {
   "cell_type": "code",
   "execution_count": 26,
   "id": "designing-malaysia",
   "metadata": {},
   "outputs": [
    {
     "data": {
      "image/png": "[encoded data removed]",
      "text/plain": [
       "<Figure size 432x288 with 1 Axes>"
      ]
     },
     "metadata": {
      "needs_background": "light"
     },
     "output_type": "display_data"
    }
   ],
   "source": [
    "plt.plot(history.history['loss'], label='Training')\n",
    "plt.plot(history.history['val_loss'], label='Validation')\n",
    "plt.title('Training history')\n",
    "plt.ylabel('Loss (categorical cross-entropy)')\n",
    "plt.xlabel('No. epoch')\n",
    "plt.legend()\n",
    "plt.show()"
   ]
  },
  {
   "cell_type": "markdown",
   "id": "moving-vancouver",
   "metadata": {},
   "source": [
    "With this training we observe no signs of overfitting (validation loss under training loss and monotonically decreasing)"
   ]
  },
  {
   "cell_type": "markdown",
   "id": "express-delta",
   "metadata": {},
   "source": [
    "### Inference"
   ]
  },
  {
   "cell_type": "markdown",
   "id": "representative-onion",
   "metadata": {},
   "source": [
    "We evaluate the model and recover the predicted sequences for the testing set"
   ]
  },
  {
   "cell_type": "code",
   "execution_count": 29,
   "id": "departmental-harmony",
   "metadata": {},
   "outputs": [
    {
     "name": "stdout",
     "output_type": "stream",
     "text": [
      "20/20 [==============================] - 7s 271ms/step - loss: 0.2903 - accuracy: 0.9121\n"
     ]
    },
    {
     "data": {
      "text/plain": [
       "[0.29027059674263, 0.9120678305625916]"
      ]
     },
     "execution_count": 29,
     "metadata": {},
     "output_type": "execute_result"
    }
   ],
   "source": [
    "model.evaluate([test_input_data, test_dec_input_data], test_target_data) "
   ]
  },
  {
   "cell_type": "markdown",
   "id": "generic-lawsuit",
   "metadata": {},
   "source": [
    "As the output is 1-hot encoded, we apply argmax to recover the index in the discretized values dictionary"
   ]
  },
  {
   "cell_type": "code",
   "execution_count": 30,
   "id": "fundamental-cleaners",
   "metadata": {},
   "outputs": [],
   "source": [
    "pred = model.predict([test_input_data, test_dec_input_data]) \n",
    "pred_idx = np.apply_along_axis(np.argmax, 2, pred)"
   ]
  },
  {
   "cell_type": "code",
   "execution_count": 31,
   "id": "increased-absorption",
   "metadata": {},
   "outputs": [
    {
     "name": "stdout",
     "output_type": "stream",
     "text": [
      "(619, 100, 28)\n",
      "(619, 100)\n"
     ]
    }
   ],
   "source": [
    "print(pred.shape)\n",
    "print(pred_idx.shape)"
   ]
  },
  {
   "cell_type": "markdown",
   "id": "widespread-handle",
   "metadata": {},
   "source": [
    "We recover the predicted sequence using the inverse search dictionary `ID_to_AU`"
   ]
  },
  {
   "cell_type": "code",
   "execution_count": 32,
   "id": "unauthorized-contents",
   "metadata": {},
   "outputs": [],
   "source": [
    "pred_seqs = []\n",
    "for i in range(len(pred_idx)):\n",
    "    pred_i = pred_idx[i]\n",
    "    seq_i = []\n",
    "    for p_i in pred_i:\n",
    "        seq_i.append(ID_to_AU[p_i])\n",
    "    pred_seqs.append(np.array(seq_i))\n",
    "\n",
    "pred_seqs = np.array(pred_seqs)"
   ]
  },
  {
   "cell_type": "code",
   "execution_count": 33,
   "id": "martial-torture",
   "metadata": {},
   "outputs": [
    {
     "data": {
      "text/plain": [
       "(619, 100)"
      ]
     },
     "execution_count": 33,
     "metadata": {},
     "output_type": "execute_result"
    }
   ],
   "source": [
    "pred_seqs.shape"
   ]
  },
  {
   "cell_type": "markdown",
   "id": "rubber-software",
   "metadata": {},
   "source": [
    "Finally, we plot some predicted sequences alongside with the ground-truth extracted in Lab 1"
   ]
  },
  {
   "cell_type": "code",
   "execution_count": 34,
   "id": "olympic-granny",
   "metadata": {},
   "outputs": [],
   "source": [
    "def plot_sample(number):\n",
    "    plt.plot(range(SEQ_LEN),pred_seqs[number].ravel().astype('float'), label=\"Predicted\")\n",
    "    plt.plot(range(SEQ_LEN),test_y[number,:,0].ravel().astype('float'),linestyle='dashed', label=\"Target\")\n",
    "\n",
    "    plt.title('Testing inference')\n",
    "    plt.ylabel('AU_0r')\n",
    "    plt.xlabel('Sequence index')\n",
    "    plt.legend()\n",
    "    plt.show()"
   ]
  },
  {
   "cell_type": "code",
   "execution_count": 35,
   "id": "detected-terror",
   "metadata": {
    "scrolled": false
   },
   "outputs": [
    {
     "data": {
      "image/png": "[encoded data removed]",
      "text/plain": [
       "<Figure size 432x288 with 1 Axes>"
      ]
     },
     "metadata": {
      "needs_background": "light"
     },
     "output_type": "display_data"
    },
    {
     "data": {
      "image/png": "[encoded data removed]",
      "text/plain": [
       "<Figure size 432x288 with 1 Axes>"
      ]
     },
     "metadata": {
      "needs_background": "light"
     },
     "output_type": "display_data"
    },
    {
     "data": {
      "image/png": "[encoded data removed]",
      "text/plain": [
       "<Figure size 432x288 with 1 Axes>"
      ]
     },
     "metadata": {
      "needs_background": "light"
     },
     "output_type": "display_data"
    },
    {
     "data": {
      "image/png": "[encoded data removed]",
      "text/plain": [
       "<Figure size 432x288 with 1 Axes>"
      ]
     },
     "metadata": {
      "needs_background": "light"
     },
     "output_type": "display_data"
    },
    {
     "data": {
      "image/png": "[encoded data removed]",
      "text/plain": [
       "<Figure size 432x288 with 1 Axes>"
      ]
     },
     "metadata": {
      "needs_background": "light"
     },
     "output_type": "display_data"
    },
    {
     "data": {
      "image/png": "[encoded data removed]",
      "text/plain": [
       "<Figure size 432x288 with 1 Axes>"
      ]
     },
     "metadata": {
      "needs_background": "light"
     },
     "output_type": "display_data"
    },
    {
     "data": {
      "image/png": "[encoded data removed]",
      "text/plain": [
       "<Figure size 432x288 with 1 Axes>"
      ]
     },
     "metadata": {
      "needs_background": "light"
     },
     "output_type": "display_data"
    },
    {
     "data": {
      "image/png": "[encoded data removed]",
      "text/plain": [
       "<Figure size 432x288 with 1 Axes>"
      ]
     },
     "metadata": {
      "needs_background": "light"
     },
     "output_type": "display_data"
    },
    {
     "data": {
      "image/png": "[encoded data removed]",
      "text/plain": [
       "<Figure size 432x288 with 1 Axes>"
      ]
     },
     "metadata": {
      "needs_background": "light"
     },
     "output_type": "display_data"
    },
    {
     "data": {
      "image/png": "[encoded data removed]",
      "text/plain": [
       "<Figure size 432x288 with 1 Axes>"
      ]
     },
     "metadata": {
      "needs_background": "light"
     },
     "output_type": "display_data"
    }
   ],
   "source": [
    "for s in np.random.choice(range(len(pred_seqs)), 10):\n",
    "    plot_sample(s)"
   ]
  },
  {
   "cell_type": "markdown",
   "id": "hollywood-secretary",
   "metadata": {},
   "source": [
    "We observe that the model performance is more-than-satisfactory, considering that we only trained for 10 epochs using a vey simple architecture."
   ]
  },
  {
   "cell_type": "code",
   "execution_count": null,
   "id": "tropical-brass",
   "metadata": {},
   "outputs": [],
   "source": []
  }
 ],
 "metadata": {
  "kernelspec": {
   "display_name": "Python 3",
   "language": "python",
   "name": "python3"
  },
  "language_info": {
   "codemirror_mode": {
    "name": "ipython",
    "version": 3
   },
   "file_extension": ".py",
   "mimetype": "text/x-python",
   "name": "python",
   "nbconvert_exporter": "python",
   "pygments_lexer": "ipython3",
   "version": "3.8.5"
  },
  "toc": {
   "base_numbering": 1,
   "nav_menu": {},
   "number_sections": true,
   "sideBar": true,
   "skip_h1_title": false,
   "title_cell": "Table of Contents",
   "title_sidebar": "Contents",
   "toc_cell": false,
   "toc_position": {},
   "toc_section_display": true,
   "toc_window_display": false
  }
 },
 "nbformat": 4,
 "nbformat_minor": 5
}
