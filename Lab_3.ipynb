{
 "cells": [
  {
   "cell_type": "markdown",
   "id": "incredible-tennessee",
   "metadata": {},
   "source": [
    "# Lab 3: Evaluation of the model\n",
    "\n",
    "***Author: Martín Cepeda***"
   ]
  },
  {
   "cell_type": "markdown",
   "id": "addressed-service",
   "metadata": {},
   "source": [
    "## Part 1: Fixing Teaching Forcing\n",
    "\n",
    "### Beam Search\n",
    "The original beam-search strategy finds a translation that approximately maximizes the conditional probability given by a specific model. It builds the translation from left-to-right and keeps a fixed number (beam) of translation candidates with the highest log-probability at each time step. For each end-of-sequence symbol that is selected among the highest scoring candidates the beam is reduced by one and the translation is stored into a final candidate list. When the beam is zero, it stops the search and picks the translation with the highest log-probability (normalized by the number of target words) out of the final candidate list[.](https://arxiv.org/pdf/1702.01806.pdf)\n",
    "\n",
    "**Trade-off:** By setting the beam size large enough, we ensure that the best translation performance can be reached with the drawback that many candidates whose scores are far away from the best are also explored.\n",
    "\n",
    "\n",
    "### Curriculum Learning (Scheduled Sampling)\n",
    "\n",
    "At an abstract level, a curriculum can be seen as a sequence of training criteria. Each training criterion in the sequence is associated with a different set of weights on the training examples, or more generally, on a reweighting of the training distribution. Initially, the weights favor “easier” examples, or examples illustrating the simplest concepts, that can be learned most easily. The next training criterion involves a slight change in the weighting of examples that increases the\n",
    "probability of sampling slightly more difficult examples. At the end of the sequence, the reweighting of the examples is uniform and we train on the target training set or the target training distribution[.](http://machinelearning.org/archive/icml2009/papers/119.pdf)\n",
    "\n",
    "\n",
    "### Parallel Scheduled Sampling\n",
    "Scheduled Sampling (Bengio et al., 2015) is a training technique designed to bridge the gap between teacher-forcing and sample decoding. In its simplest form, Sequential Scheduled Sampling generates tokens $\\tilde y_{1:t}$ and conditions on these target prefixes during training. Sequential Scheduled Sampling uses the same objective function as teacher-forcing except the conditioning tokens $\\tilde y_{1:t}$ are a random mixture of gold tokens $ y_{1:t}$ and sampled tokens $\\hat y_{1:t}$ instead of gold tokens $ y_{1:t}$.\n",
    "\n",
    "Whereas Sequential Scheduled Sampling selects conditioning tokens one after another, Parallel Scheduled Sampling consists on generating conditioning tokens for all timesteps in parallel over the course of one or more passes. While this technique requires strictly more operations than Sequential Scheduled Sampling, it is better suited to hardware accelerators such as GPUs and TPUs. The procedure consists of multiple passes, each pass consisting of parallel sampling and mixing steps[.](https://arxiv.org/pdf/1906.04331.pdf)\n",
    "\n",
    "\n",
    "### Professor Forcing\n",
    "\n",
    "The basic idea of Professor Forcing is simple: while we do want the generative RNN to match thetraining data, we also want the behavior of the network (both in its outputs and in the dynamics of its hidden states) to be indistinguishable whether the network is trained with its inputs clamped to a training sequence (teacher forcing mode) or whether its inputs are self-generated (free-running generative mode). Because we can only compare the distribution of these sequences, it makes sense\n",
    "to take advantage of the generative adversarial networks (GANs) framework to achieve that second objective of matching the two distributions over sequences (the one observed in teacher forcing mode vs the one observed in free-running mode)[.](https://arxiv.org/pdf/1610.09038.pdf)"
   ]
  },
  {
   "cell_type": "markdown",
   "id": "dated-presentation",
   "metadata": {},
   "source": [
    "## Part 2: \"Improved\" model\n",
    "\n",
    "This part is mostly qualitative. Whereas I re-implemented the model presented in Lab 2 including attention, the results are more than catastrophic. This is due to several reasons:\n",
    "\n",
    "a) no real fixing of exposure bias\n",
    "\n",
    "b) scarce number of training epochs due to limited computing time/power\n",
    "\n",
    "c) rather small dataset considering that we're trying to accomplish a variant of machine translation\n",
    "\n",
    "Nevertheless, the sources can also be traced back to feature selection: sampling rate for fundamental frequency, robustness of OpenFace to extract action features or the sufficiency of F0 to explain the different AUs. In [this paper](https://arxiv.org/ftp/arxiv/papers/1810/1810.12541.pdf) they explore a conceptually similar approach but based on text, which has a much richer domain and semantics than the discretization of F0, whereas in [this paper](https://link.springer.com/article/10.1007/s11263-019-01251-8) they leverage visual information (not AUs) to make a GAN speech-to-gesture synthesizer. Again, we observe a bigger feature domain that could ultimately have AUs as a side product once the gesture image is produced. Similarly, in [this paper](https://dl.acm.org/doi/10.1145/3072959.3073658) they explore the use of non-prosodic audio features to learn the 3D mesh extracted from video. Also, they redefine the loss (as they're dealing with points in R^3).\n"
   ]
  },
  {
   "cell_type": "code",
   "execution_count": 1,
   "id": "deluxe-video",
   "metadata": {},
   "outputs": [],
   "source": [
    "import os\n",
    "from glob import glob\n",
    "import numpy as np\n",
    "import pandas as pd\n",
    "from matplotlib import pyplot as plt\n",
    "from tqdm import tqdm\n",
    "import time\n",
    "\n",
    "import tensorflow as tf\n",
    "tf.config.run_functions_eagerly(True)\n",
    "from tensorflow import keras\n",
    "\n",
    "from pprint import pprint\n",
    "%matplotlib inline"
   ]
  },
  {
   "cell_type": "markdown",
   "id": "experienced-values",
   "metadata": {},
   "source": [
    "### Path setup\n",
    "\n",
    "This section sets the relative paths to:\n",
    "\n",
    "- Search for clean features\n",
    "- Set paths for saving model checkpoints and training history"
   ]
  },
  {
   "cell_type": "code",
   "execution_count": 2,
   "id": "democratic-corrections",
   "metadata": {},
   "outputs": [],
   "source": [
    "here = os.getcwd()\n",
    "\n",
    "base_dir = os.path.join(here, \"data\")\n",
    "batch1_dir = os.path.join(base_dir, \"batch 1\")\n",
    "batch2_dir = os.path.join(base_dir, \"batch 2\")\n",
    "figures_dir = os.path.join(here, \"figures\", \"lab3\")\n",
    "\n",
    "debug_dir = os.path.join(here, \"debug\")\n",
    "model_dir = os.path.join(debug_dir, \"model\")\n",
    "history_dir = os.path.join(debug_dir, \"history\")\n",
    "\n",
    "os.makedirs(debug_dir, exist_ok=True)\n",
    "os.makedirs(model_dir, exist_ok=True)\n",
    "os.makedirs(history_dir, exist_ok=True)\n",
    "os.makedirs(figures_dir, exist_ok=True)"
   ]
  },
  {
   "cell_type": "code",
   "execution_count": 3,
   "id": "indonesian-connectivity",
   "metadata": {},
   "outputs": [
    {
     "name": "stdout",
     "output_type": "stream",
     "text": [
      "Available videos:\n"
     ]
    },
    {
     "data": {
      "text/plain": [
       "['k4vzhweOefs',\n",
       " 'lr-mXnUoUXM',\n",
       " 'O6jrLgvCUNs',\n",
       " 'ovKqmRyOGcg',\n",
       " 'psN1DORYYV0',\n",
       " 'tZYkjaKNr_o',\n",
       " 'XE_FPEFpHt4',\n",
       " 'yCm9Ng0bbEQ',\n",
       " 'zawpbVpu5nY',\n",
       " 'ZdDjexbxVzM',\n",
       " '2tBuvxXxlS4',\n",
       " '3boKz0Exros',\n",
       " '5RAJvzV9j-o',\n",
       " '6LmPq7D-ds0',\n",
       " '6OaIdwUdSxE',\n",
       " '6We_1bXRBOk',\n",
       " 'd6NKdnZvdoo',\n",
       " 'E3cK8IL0JCE',\n",
       " 'eD9F5HdyKqU',\n",
       " 'g3vSYbT1Aco',\n",
       " 'MvXZzKZ3JYQ',\n",
       " 'NP8xt8o4_5Q',\n",
       " 'urntcMUJR9M',\n",
       " 'ux1GxExRUUY',\n",
       " 'wD3-6JIUF7M',\n",
       " 'y9ALB39wRKo']"
      ]
     },
     "execution_count": 3,
     "metadata": {},
     "output_type": "execute_result"
    }
   ],
   "source": [
    "batch1_ids = [os.path.split(file)[1][:-4] for file in glob(os.path.join(batch1_dir, \"*.csv\"))]\n",
    "batch2_ids = [os.path.split(file)[1][:-4] for file in glob(os.path.join(batch2_dir, \"*.csv\"))]\n",
    "\n",
    "video_ids = batch1_ids + batch2_ids\n",
    "\n",
    "print(\"Available videos:\")\n",
    "video_ids"
   ]
  },
  {
   "cell_type": "markdown",
   "id": "velvet-russia",
   "metadata": {},
   "source": [
    "### Loading clean data\n",
    "\n",
    "In order to make our dataset, we must make windows of size 100 **per each scene** in ell videos. In order to do this, we can merge all video CSVs one unique dataframe and identify all scenes, keeping track of video IDs and frame numbers to recover the correspondant $F0$"
   ]
  },
  {
   "cell_type": "code",
   "execution_count": 4,
   "id": "dedicated-sucking",
   "metadata": {},
   "outputs": [
    {
     "name": "stderr",
     "output_type": "stream",
     "text": [
      "100%|██████████████████████████████████████████████████████████████████████████████████| 26/26 [00:01<00:00, 14.96it/s]"
     ]
    },
    {
     "name": "stdout",
     "output_type": "stream",
     "text": [
      "Missing values:\n",
      "frame        0\n",
      "timestamp    0\n",
      "AU01_r       0\n",
      "AU02_r       0\n",
      "AU04_r       0\n",
      "AU05_r       0\n",
      "AU06_r       0\n",
      "AU07_r       0\n",
      "f0           0\n",
      "video_id     0\n",
      "dtype: int64\n"
     ]
    },
    {
     "name": "stderr",
     "output_type": "stream",
     "text": [
      "\n"
     ]
    }
   ],
   "source": [
    "# Merge all dataframes\n",
    "df_AU = pd.DataFrame()\n",
    "\n",
    "for i, video_id in enumerate(tqdm(video_ids)):\n",
    "    # Infer directory\n",
    "    batch_dir_i = batch1_dir if i < len(batch1_ids) else batch2_dir\n",
    "    # Read video dataframe\n",
    "    df_i = pd.read_csv(os.path.join(batch_dir_i, f\"{video_id}.csv\"))\n",
    "    # Read audio dataframe\n",
    "    df_f0_i = pd.read_csv(os.path.join(batch_dir_i, f\"{video_id}.f0.txt\"),\n",
    "                         sep=\"\\t\",\n",
    "                         names=[\"timestamp\", \"f0\"])\n",
    "    \n",
    "    # Merge on timestamps of AU dataframe\n",
    "    df_i = pd.merge_asof(df_i, df_f0_i, on=\"timestamp\")\n",
    "    # Add video id for future tracking\n",
    "    df_i['video_id'] = video_id\n",
    "    # Append to total dataframe\n",
    "    df_AU = df_AU.append(df_i)\n",
    "\n",
    "df_AU.reset_index(drop=True, inplace=True)\n",
    "# Drop success column as data is clean\n",
    "df_AU.drop(\"success\", axis=1, inplace=True)\n",
    "\n",
    "print(\"Missing values:\")\n",
    "print(df_AU.isna().sum())"
   ]
  },
  {
   "cell_type": "markdown",
   "id": "deadly-gates",
   "metadata": {},
   "source": [
    "Scene extraction"
   ]
  },
  {
   "cell_type": "code",
   "execution_count": 5,
   "id": "sustained-browser",
   "metadata": {},
   "outputs": [],
   "source": [
    "def get_scene_idxs(df):\n",
    "    \"\"\"Get beginning and end indexes for every scene in dataframe.\n",
    "    A scene is defined by a series of consecutive frames\n",
    "    \"\"\"\n",
    "    # Get idxs where there are no consecutive frames\n",
    "    end_of_scenes = list(np.where(df['frame'].diff().bfill() != 1)[0])\n",
    "    end_of_scenes.append(len(df))\n",
    "    \n",
    "    # Fill tuples (frame_beginning, frame_end) for each scene\n",
    "    scene_idxs = []\n",
    "    for i, idx in enumerate(end_of_scenes):\n",
    "        if i == 0:\n",
    "            beg_i = 0  \n",
    "        else:\n",
    "            beg_i = end_of_scenes[i-1]\n",
    "        \n",
    "        end_i = idx\n",
    "        \n",
    "        scene_idxs.append((beg_i, end_i))\n",
    "    # Return list of scene indexes\n",
    "    return scene_idxs"
   ]
  },
  {
   "cell_type": "code",
   "execution_count": 6,
   "id": "solar-florence",
   "metadata": {},
   "outputs": [
    {
     "data": {
      "image/png": "[encoded data removed]",
      "text/plain": [
       "<Figure size 432x288 with 1 Axes>"
      ]
     },
     "metadata": {
      "needs_background": "light"
     },
     "output_type": "display_data"
    },
    {
     "name": "stdout",
     "output_type": "stream",
     "text": [
      "Description of the length of scenes:\n",
      "count     590.000000\n",
      "mean      522.869492\n",
      "std       538.166413\n",
      "min        51.000000\n",
      "25%       218.000000\n",
      "50%       379.500000\n",
      "75%       628.500000\n",
      "max      6971.000000\n",
      "dtype: float64\n"
     ]
    }
   ],
   "source": [
    "scene_idxs = get_scene_idxs(df_AU)\n",
    "\n",
    "# Show and describe scene lengths\n",
    "scene_lengths = pd.Series([id_f - id_i for (id_i, id_f) in scene_idxs])\n",
    "\n",
    "plt.hist(scene_lengths, bins=20)\n",
    "plt.title(\"Histogram of scene duration\")\n",
    "plt.xlabel(\"Length\")\n",
    "plt.ylabel(\"Frequency\")\n",
    "plt.savefig(os.path.join(figures_dir, \"scene_hist.png\"), bbox_inches='tight', facecolor=\"white\",transparent=False)\n",
    "plt.show()\n",
    "\n",
    "print(\"Description of the length of scenes:\")\n",
    "print(scene_lengths.describe())"
   ]
  },
  {
   "cell_type": "code",
   "execution_count": 7,
   "id": "double-sleep",
   "metadata": {},
   "outputs": [],
   "source": [
    "# Sanity check: all scenes span always an unique video\n",
    "for (id_i, id_f) in scene_idxs:\n",
    "    if df_AU[id_i:id_f]['video_id'].nunique() != 1:\n",
    "        print(f\"Problem in scene between {id_i} and {id_f}\")"
   ]
  },
  {
   "cell_type": "markdown",
   "id": "engaging-uncle",
   "metadata": {},
   "source": [
    "### Make sequence dataset"
   ]
  },
  {
   "cell_type": "markdown",
   "id": "double-liberia",
   "metadata": {},
   "source": [
    "We define a quantization function for AU intensity following the formula:\n",
    "$$Q_\\Delta(x) = \\Delta\\cdot\\left \\lfloor{\\frac{x}{\\Delta}+\\frac{1}{2}}\\right \\rfloor $$\n",
    "\n",
    "Which rounds $x$ to the nearest multiple of $\\Delta$"
   ]
  },
  {
   "cell_type": "code",
   "execution_count": 8,
   "id": "fixed-correspondence",
   "metadata": {},
   "outputs": [],
   "source": [
    "def quantize(x, step=0.1):\n",
    "    \"\"\"Quantize a scalar or a numpy array with a fixed step size\n",
    "    \"\"\"\n",
    "    assert step > 0.0\n",
    "    return np.round(step*np.floor(x/step +0.5), 1)"
   ]
  },
  {
   "cell_type": "markdown",
   "id": "documentary-teach",
   "metadata": {},
   "source": [
    "Quantization parameters for AU and F0, sequence parameters"
   ]
  },
  {
   "cell_type": "code",
   "execution_count": 9,
   "id": "neural-outline",
   "metadata": {},
   "outputs": [],
   "source": [
    "STEP_SIZE_AU = 0.2\n",
    "STEP_SIZE_F0 = 0.1"
   ]
  },
  {
   "cell_type": "markdown",
   "id": "ruled-usage",
   "metadata": {},
   "source": [
    "Perform quantization on AU and F0, also clipping the latter between 50 and 550"
   ]
  },
  {
   "cell_type": "code",
   "execution_count": 10,
   "id": "knowing-ticket",
   "metadata": {},
   "outputs": [],
   "source": [
    "AU_columns = [col for col in df_AU.columns if \"AU\" in col]\n",
    "\n",
    "df_AU[AU_columns] = df_AU[AU_columns].applymap(lambda x: quantize(x, STEP_SIZE_AU))\n",
    "df_AU[\"f0\"] = df_AU[\"f0\"].apply(lambda x: quantize(np.clip(x, 50, 550), STEP_SIZE_F0))"
   ]
  },
  {
   "cell_type": "markdown",
   "id": "norman-registration",
   "metadata": {},
   "source": [
    "Make vocabularies"
   ]
  },
  {
   "cell_type": "code",
   "execution_count": 11,
   "id": "directed-amino",
   "metadata": {},
   "outputs": [
    {
     "name": "stdout",
     "output_type": "stream",
     "text": [
      "Vocabulary sizes\n",
      "AU: 26\n",
      "F0: 3605\n"
     ]
    }
   ],
   "source": [
    "all_AU = set()\n",
    "for col in AU_columns:\n",
    "    all_AU = all_AU.union(df_AU[col].values)\n",
    "    \n",
    "ID_to_AU = {0: \"PAD\",\n",
    "            1: \"SOS\",\n",
    "            2: \"EOS\"}\n",
    "for i, value in enumerate(sorted(list(all_AU))):\n",
    "    ID_to_AU[i+3] = str(value)\n",
    "    \n",
    "all_f0 = set(df_AU[\"f0\"].values)\n",
    "ID_to_F0 = {0: \"PAD\",\n",
    "            1: \"SOS\",\n",
    "            2: \"EOS\"}\n",
    "for i, value in enumerate(sorted(list(all_f0))):\n",
    "    ID_to_F0[i+3] = str(value)\n",
    "\n",
    "# Make reverse_search dictionaries\n",
    "AU_to_ID = {v:k for k, v in ID_to_AU.items()}\n",
    "F0_to_ID = {v:k for k, v in ID_to_F0.items()}\n",
    "\n",
    "\n",
    "print(\"Vocabulary sizes\")\n",
    "print(f\"AU: {len(all_AU)}\")\n",
    "print(f\"F0: {len(all_f0)}\")"
   ]
  },
  {
   "cell_type": "markdown",
   "id": "formed-humanitarian",
   "metadata": {},
   "source": [
    "Make sequences of 100 frames\n",
    "\n",
    "Sequences are made with string values to avoid float issues comparing numbers and mixing numerical values with tags such as \"PAD\""
   ]
  },
  {
   "cell_type": "code",
   "execution_count": 12,
   "id": "educated-document",
   "metadata": {},
   "outputs": [],
   "source": [
    "SEQ_LEN = 100\n",
    "SEQ_OVERLAP = 2 # At least 2 sample overlap as we introduce SOS and EOS tokens for each sequence"
   ]
  },
  {
   "cell_type": "code",
   "execution_count": 13,
   "id": "appreciated-stake",
   "metadata": {},
   "outputs": [
    {
     "name": "stderr",
     "output_type": "stream",
     "text": [
      "100%|███████████████████████████████████████████████████████████████████████████████| 590/590 [00:03<00:00, 161.73it/s]\n"
     ]
    }
   ],
   "source": [
    "sequences_features = []\n",
    "sequences_predict = []\n",
    "\n",
    "# Create sequences independantly for every scene\n",
    "# Each sequence is made of indexes (translate after with ID_to_X)\n",
    "for i, (idscene_i, idscene_f) in enumerate(tqdm(scene_idxs)):\n",
    "    l = idscene_f - idscene_i\n",
    "    current_i = idscene_i\n",
    "    \n",
    "#     print(\"scene\", current_i, idscene_f)\n",
    "    # While possible to fit a whole sequence of SEQ_LEN, do it\n",
    "    while current_i + SEQ_LEN <= idscene_f:\n",
    "        # Sequence limits\n",
    "        id_i = current_i\n",
    "        id_f = current_i + SEQ_LEN\n",
    "        # Update current i\n",
    "        current_i = current_i + SEQ_LEN - SEQ_OVERLAP\n",
    "        \n",
    "        # Get data F0\n",
    "        seq_feature = np.array([F0_to_ID[str(i)] for i in df_AU[id_i:id_f][\"f0\"].values], dtype=int)\n",
    "        seq_predict = np.zeros((SEQ_LEN, len(AU_columns)), dtype=int)\n",
    "        # Get data AUs\n",
    "        predict_values = df_AU[id_i:id_f][AU_columns].values\n",
    "        for i in range(predict_values.shape[0]):\n",
    "            for j in range(predict_values.shape[1]):\n",
    "                seq_predict[i, j] = AU_to_ID[str(predict_values[i, j])]\n",
    "                \n",
    "        # Add SOS-EOS indexes\n",
    "        # SOS\n",
    "        seq_feature[0] = 1\n",
    "        seq_predict[0,:] = 1\n",
    "        # EOS\n",
    "        seq_feature[SEQ_LEN-1] = 2\n",
    "        seq_predict[SEQ_LEN-1,:] = 2\n",
    "        \n",
    "        # Save sequence\n",
    "        sequences_features.append(seq_feature)\n",
    "        sequences_predict.append(seq_predict)\n",
    "#         print(\"--> added\", id_i, id_f)\n",
    "        \n",
    "    # Handle last window with padding\n",
    "    if current_i != idscene_f - SEQ_OVERLAP:\n",
    "        last_frame_features = np.zeros((SEQ_LEN), dtype=int)\n",
    "        last_frame_predict = np.zeros((SEQ_LEN, len(AU_columns)), dtype=int)\n",
    "        # Get data F0\n",
    "        last_frame_features[:idscene_i+l-current_i] = np.array(\n",
    "            [F0_to_ID[str(i)] for i in df_AU[current_i:idscene_f][\"f0\"].values], \n",
    "                                                               dtype=int)\n",
    "        # Get data AUs\n",
    "        predict_values = df_AU[current_i:idscene_f][AU_columns].values\n",
    "        for i in range(predict_values.shape[0]):\n",
    "            for j in range(predict_values.shape[1]):\n",
    "                last_frame_predict[i, j] = AU_to_ID[str(predict_values[i, j])]        \n",
    "        \n",
    "        # Add SOS-EOS indexes\n",
    "        # SOS\n",
    "        last_frame_features[0] = 1\n",
    "        last_frame_predict[0,:] = 1\n",
    "        # EOS\n",
    "        last_frame_features[predict_values.shape[0]] = 2\n",
    "        last_frame_predict[predict_values.shape[0],:] = 2\n",
    "        \n",
    "        # Save sequence\n",
    "        sequences_features.append(last_frame_features)\n",
    "        sequences_predict.append(last_frame_predict)\n",
    "\n",
    "sequences_indexes = list(range(len(sequences_features)))\n",
    "sequences_features = np.array(sequences_features)\n",
    "sequences_predict = np.array(sequences_predict)"
   ]
  },
  {
   "cell_type": "code",
   "execution_count": 14,
   "id": "manufactured-utilization",
   "metadata": {},
   "outputs": [
    {
     "name": "stdout",
     "output_type": "stream",
     "text": [
      "Using sequences of length 100 with 2 overlapping samples\n",
      "Input features shape (3430, 100)\n",
      "Target features shape (3430, 100, 6)\n"
     ]
    }
   ],
   "source": [
    "print(f\"Using sequences of length {SEQ_LEN} with {SEQ_OVERLAP} overlapping samples\")\n",
    "print(\"Input features shape\", sequences_features.shape)\n",
    "print(\"Target features shape\", sequences_predict.shape)"
   ]
  },
  {
   "cell_type": "markdown",
   "id": "czech-bulgaria",
   "metadata": {},
   "source": [
    "### Make Train/Val/Test split"
   ]
  },
  {
   "cell_type": "code",
   "execution_count": 15,
   "id": "prescription-restaurant",
   "metadata": {},
   "outputs": [],
   "source": [
    "def seq_to_onehot(sequence):\n",
    "    \"\"\"Trasnforms a sequence of indexes to a one-hot encoding of the same sequence. \n",
    "    Output array has 1 extra dimension of the size of the vocabulary\n",
    "    \"\"\"\n",
    "    # Infer output size from F0 or AU\n",
    "    if len(sequence.shape) == 1:\n",
    "        new_sequence = np.zeros((sequence.shape[0], len(F0_to_ID)))\n",
    "    else:\n",
    "        new_sequence = np.zeros((sequence.shape[0], sequence.shape[1], len(AU_to_ID)))\n",
    "    # Fill one-hot vectors\n",
    "    for i in range(sequence.shape[0]):\n",
    "        if len(sequence.shape) == 1:\n",
    "            sample_i = sequence[i]\n",
    "            new_sequence[i, sample_i] = 1.0\n",
    "        else:\n",
    "            for j in range(sequence.shape[1]):\n",
    "                sample_ij = sequence[i,j]\n",
    "                new_sequence[i, j, sample_ij] = 1.0\n",
    "    \n",
    "    return new_sequence\n",
    "\n",
    "def onehot_to_seq(onehot):\n",
    "    \"\"\"Transforms a one-hot encoding of an index array to an index array.\n",
    "    Output array has 1 less dimension\n",
    "    \"\"\"\n",
    "    # Infer output size from F0 or AU, return argmax to have index of one-hot\n",
    "    if len(onehot.shape) == 2:\n",
    "        return np.argmax(onehot, axis=1)\n",
    "    else:\n",
    "        return np.array([np.argmax(onehot_i, axis=1) for onehot_i in onehot])\n",
    "    \n",
    "def seq_to_real(sequence):\n",
    "    \"\"\" Returns the corresponding quantized values from a sequence of vocabulary indexes.\n",
    "    As there are no negative values in data, the following convention is used:\n",
    "     0: PAD\n",
    "    -1: SOS\n",
    "    -2: EOS\n",
    "    \"\"\"\n",
    "    # Create containing array\n",
    "    values = np.zeros_like(sequence, dtype=float)\n",
    "    # Fill array (F0 case)\n",
    "    if len(sequence.shape) == 1:\n",
    "        for i, s_i in enumerate(sequence):\n",
    "            val_i = ID_to_F0[s_i]\n",
    "            if val_i not in [\"PAD\", \"SOS\", \"EOS\"]:\n",
    "                values[i] = float(val_i)\n",
    "            else:\n",
    "                values[i] = -s_i\n",
    "    # Fill array (AUs case)\n",
    "    else:\n",
    "        for i in range(sequence.shape[0]):\n",
    "            for j in range(sequence.shape[1]):\n",
    "                val_ij = ID_to_AU[sequence[i, j]]\n",
    "                if val_ij not in [\"PAD\", \"SOS\", \"EOS\"]:\n",
    "                    values[i, j] = float(val_ij)\n",
    "                else:\n",
    "                    values[i, j] = -sequence[i, j]\n",
    "    return values"
   ]
  },
  {
   "cell_type": "code",
   "execution_count": 16,
   "id": "located-superintendent",
   "metadata": {},
   "outputs": [
    {
     "name": "stderr",
     "output_type": "stream",
     "text": [
      "100%|█████████████████████████████████████████████████████████████████████████████| 3430/3430 [00:04<00:00, 688.34it/s]\n",
      "100%|████████████████████████████████████████████████████████████████████████████| 3430/3430 [00:01<00:00, 2109.47it/s]\n"
     ]
    }
   ],
   "source": [
    "# Sanity check\n",
    "for i, s in enumerate(tqdm(sequences_features)):\n",
    "    assert (s - onehot_to_seq(seq_to_onehot(s)) == np.zeros_like(s)).all(), i\n",
    "\n",
    "for i, s in enumerate(tqdm(sequences_predict)):\n",
    "    assert (s - onehot_to_seq(seq_to_onehot(s)) == np.zeros_like(s)).all(), i"
   ]
  },
  {
   "cell_type": "markdown",
   "id": "similar-cotton",
   "metadata": {},
   "source": [
    "### seq2seq model\n",
    "\n",
    "For this Lab we'll work only with F0 as feature and we'll try to predict the Action units.\n",
    "\n",
    "Each sequence is starts with `SOS` and ends with `EOS`, eventually with `PAD`. The code of this section is inspired from [this tutorial](https://www.tensorflow.org/tutorials/text/nmt_with_attention)\n",
    "\n",
    "Dataset:"
   ]
  },
  {
   "cell_type": "code",
   "execution_count": 52,
   "id": "extended-executive",
   "metadata": {},
   "outputs": [],
   "source": [
    "BUFFER_SIZE = len(sequences_features)\n",
    "BATCH_SIZE = 15\n",
    "embedding_dim = 256\n",
    "units = 1024\n",
    "vocab_inp_size = len(F0_to_ID)\n",
    "vocab_tar_size = len(AU_to_ID)\n",
    "\n",
    "AU_model = 0\n",
    "\n",
    "train_size = int(0.8 * BUFFER_SIZE)\n",
    "val_size = int(0.1 * BUFFER_SIZE)\n",
    "test_size = int(0.1 * BUFFER_SIZE)\n",
    "\n",
    "dataset = tf.data.Dataset.from_tensor_slices((sequences_features, sequences_predict[:, :, AU_model])).shuffle(BUFFER_SIZE)\n",
    "train_dataset = dataset.take(train_size)\n",
    "test_dataset = dataset.skip(train_size)\n",
    "val_dataset = test_dataset.skip(test_size)\n",
    "test_dataset = test_dataset.take(test_size)\n",
    "\n",
    "\n",
    "\n",
    "train_dataset = train_dataset.batch(BATCH_SIZE, drop_remainder=True)\n",
    "val_dataset = val_dataset.batch(BATCH_SIZE, drop_remainder=True)\n",
    "test_dataset = test_dataset.batch(BATCH_SIZE, drop_remainder=True)"
   ]
  },
  {
   "cell_type": "code",
   "execution_count": 53,
   "id": "internal-straight",
   "metadata": {},
   "outputs": [
    {
     "data": {
      "text/plain": [
       "(TensorShape([15, 100]), TensorShape([15, 100]))"
      ]
     },
     "execution_count": 53,
     "metadata": {},
     "output_type": "execute_result"
    }
   ],
   "source": [
    "example_input_batch, example_target_batch = next(iter(train_dataset))\n",
    "example_input_batch.shape, example_target_batch.shape"
   ]
  },
  {
   "cell_type": "code",
   "execution_count": 54,
   "id": "appreciated-aberdeen",
   "metadata": {},
   "outputs": [
    {
     "data": {
      "text/plain": [
       "(TensorShape([15, 100]), TensorShape([15, 100]))"
      ]
     },
     "execution_count": 54,
     "metadata": {},
     "output_type": "execute_result"
    }
   ],
   "source": [
    "example_input_batch, example_target_batch = next(iter(val_dataset))\n",
    "example_input_batch.shape, example_target_batch.shape"
   ]
  },
  {
   "cell_type": "code",
   "execution_count": 55,
   "id": "pleased-member",
   "metadata": {},
   "outputs": [
    {
     "data": {
      "text/plain": [
       "(TensorShape([15, 100]), TensorShape([15, 100]))"
      ]
     },
     "execution_count": 55,
     "metadata": {},
     "output_type": "execute_result"
    }
   ],
   "source": [
    "example_input_batch, example_target_batch = next(iter(test_dataset))\n",
    "example_input_batch.shape, example_target_batch.shape"
   ]
  },
  {
   "cell_type": "markdown",
   "id": "affecting-grounds",
   "metadata": {},
   "source": [
    "Define model modules"
   ]
  },
  {
   "cell_type": "code",
   "execution_count": 56,
   "id": "early-disorder",
   "metadata": {},
   "outputs": [],
   "source": [
    "class Encoder(tf.keras.Model):\n",
    "    def __init__(self, vocab_size, embedding_dim, enc_units, batch_sz):\n",
    "        super(Encoder, self).__init__()\n",
    "        self.batch_sz = batch_sz\n",
    "        self.enc_units = enc_units\n",
    "        self.embedding = tf.keras.layers.Embedding(vocab_size, embedding_dim)\n",
    "        self.gru = tf.keras.layers.GRU(self.enc_units,\n",
    "                                       return_sequences=True,\n",
    "                                       return_state=True,\n",
    "                                       recurrent_initializer='glorot_uniform')\n",
    "\n",
    "    def call(self, x, hidden):\n",
    "        x = self.embedding(x)\n",
    "        output, state = self.gru(x, initial_state = hidden)\n",
    "        return output, state\n",
    "\n",
    "    def initialize_hidden_state(self):\n",
    "        return tf.zeros((self.batch_sz, self.enc_units))\n",
    "    \n",
    "class BahdanauAttention(tf.keras.layers.Layer):\n",
    "    def __init__(self, units):\n",
    "        super(BahdanauAttention, self).__init__()\n",
    "        self.W1 = tf.keras.layers.Dense(units)\n",
    "        self.W2 = tf.keras.layers.Dense(units)\n",
    "        self.V = tf.keras.layers.Dense(1)\n",
    "\n",
    "    def call(self, query, values):\n",
    "        # query hidden state shape == (batch_size, hidden size)\n",
    "        # query_with_time_axis shape == (batch_size, 1, hidden size)\n",
    "        # values shape == (batch_size, max_len, hidden size)\n",
    "        # we are doing this to broadcast addition along the time axis to calculate the score\n",
    "        query_with_time_axis = tf.expand_dims(query, 1)\n",
    "\n",
    "        # score shape == (batch_size, max_length, 1)\n",
    "        # we get 1 at the last axis because we are applying score to self.V\n",
    "        # the shape of the tensor before applying self.V is (batch_size, max_length, units)\n",
    "        score = self.V(tf.nn.tanh(\n",
    "            self.W1(query_with_time_axis) + self.W2(values)))\n",
    "\n",
    "        # attention_weights shape == (batch_size, max_length, 1)\n",
    "        attention_weights = tf.nn.softmax(score, axis=1)\n",
    "\n",
    "        # context_vector shape after sum == (batch_size, hidden_size)\n",
    "        context_vector = attention_weights * values\n",
    "        context_vector = tf.reduce_sum(context_vector, axis=1)\n",
    "\n",
    "        return context_vector, attention_weights\n",
    "\n",
    "class Decoder(tf.keras.Model):\n",
    "    def __init__(self, vocab_size, embedding_dim, dec_units, batch_sz):\n",
    "        super(Decoder, self).__init__()\n",
    "        self.batch_sz = batch_sz\n",
    "        self.dec_units = dec_units\n",
    "        self.embedding = tf.keras.layers.Embedding(vocab_size, embedding_dim)\n",
    "        self.gru = tf.keras.layers.GRU(self.dec_units,\n",
    "                                       return_sequences=True,\n",
    "                                       return_state=True,\n",
    "                                       recurrent_initializer='glorot_uniform')\n",
    "        self.fc = tf.keras.layers.Dense(vocab_size)\n",
    "\n",
    "    # used for attention\n",
    "        self.attention = BahdanauAttention(self.dec_units)\n",
    "\n",
    "    def call(self, x, hidden, enc_output):\n",
    "        # enc_output shape == (batch_size, max_length, hidden_size)\n",
    "        context_vector, attention_weights = self.attention(hidden, enc_output)\n",
    "\n",
    "        # x shape after passing through embedding == (batch_size, 1, embedding_dim)\n",
    "        x = self.embedding(x)\n",
    "\n",
    "        # x shape after concatenation == (batch_size, 1, embedding_dim + hidden_size)\n",
    "        x = tf.concat([tf.expand_dims(context_vector, 1), x], axis=-1)\n",
    "\n",
    "        # passing the concatenated vector to the GRU\n",
    "        output, state = self.gru(x)\n",
    "\n",
    "        # output shape == (batch_size * 1, hidden_size)\n",
    "        output = tf.reshape(output, (-1, output.shape[2]))\n",
    "\n",
    "        # output shape == (batch_size, vocab)\n",
    "        x = self.fc(output)\n",
    "\n",
    "        return x, state, attention_weights"
   ]
  },
  {
   "cell_type": "code",
   "execution_count": 57,
   "id": "exposed-thing",
   "metadata": {},
   "outputs": [
    {
     "name": "stdout",
     "output_type": "stream",
     "text": [
      "Encoder output shape: (batch size, sequence length, units) (15, 100, 1024)\n",
      "Encoder Hidden state shape: (batch size, units) (15, 1024)\n"
     ]
    }
   ],
   "source": [
    "encoder = Encoder(vocab_inp_size, embedding_dim, units, BATCH_SIZE)\n",
    "\n",
    "# sample input\n",
    "sample_hidden = encoder.initialize_hidden_state()\n",
    "sample_output, sample_hidden = encoder(example_input_batch, sample_hidden)\n",
    "print ('Encoder output shape: (batch size, sequence length, units) {}'.format(sample_output.shape))\n",
    "print ('Encoder Hidden state shape: (batch size, units) {}'.format(sample_hidden.shape))"
   ]
  },
  {
   "cell_type": "code",
   "execution_count": 58,
   "id": "valuable-princess",
   "metadata": {},
   "outputs": [
    {
     "name": "stdout",
     "output_type": "stream",
     "text": [
      "Attention result shape: (batch size, units) (15, 1024)\n",
      "Attention weights shape: (batch_size, sequence_length, 1) (15, 100, 1)\n"
     ]
    }
   ],
   "source": [
    "attention_layer = BahdanauAttention(10)\n",
    "attention_result, attention_weights = attention_layer(sample_hidden, sample_output)\n",
    "\n",
    "print(\"Attention result shape: (batch size, units) {}\".format(attention_result.shape))\n",
    "print(\"Attention weights shape: (batch_size, sequence_length, 1) {}\".format(attention_weights.shape))"
   ]
  },
  {
   "cell_type": "code",
   "execution_count": 59,
   "id": "tropical-barrier",
   "metadata": {},
   "outputs": [
    {
     "name": "stdout",
     "output_type": "stream",
     "text": [
      "Decoder output shape: (batch_size, vocab size) (15, 29)\n"
     ]
    }
   ],
   "source": [
    "decoder = Decoder(vocab_tar_size, embedding_dim, units, BATCH_SIZE)\n",
    "\n",
    "sample_decoder_output, _, _ = decoder(tf.random.uniform((BATCH_SIZE, 1)),\n",
    "                                      sample_hidden, sample_output)\n",
    "\n",
    "print ('Decoder output shape: (batch_size, vocab size) {}'.format(sample_decoder_output.shape))"
   ]
  },
  {
   "cell_type": "code",
   "execution_count": 60,
   "id": "assumed-browse",
   "metadata": {},
   "outputs": [],
   "source": [
    "optimizer = tf.keras.optimizers.Adam()\n",
    "loss_object = tf.keras.losses.SparseCategoricalCrossentropy(\n",
    "    from_logits=True, reduction='none')\n",
    "\n",
    "def loss_function(real, pred):\n",
    "    mask = tf.math.logical_not(tf.math.equal(real, 0))\n",
    "    loss_ = loss_object(real, pred)\n",
    "\n",
    "    mask = tf.cast(mask, dtype=loss_.dtype)\n",
    "    loss_ *= mask\n",
    "\n",
    "    return tf.reduce_mean(loss_)"
   ]
  },
  {
   "cell_type": "code",
   "execution_count": 61,
   "id": "beginning-brooks",
   "metadata": {},
   "outputs": [],
   "source": [
    "checkpoint_dir = './training_checkpoints'\n",
    "checkpoint_prefix = os.path.join(checkpoint_dir, \"ckpt\")\n",
    "checkpoint = tf.train.Checkpoint(optimizer=optimizer,\n",
    "                                 encoder=encoder,\n",
    "                                 decoder=decoder)"
   ]
  },
  {
   "cell_type": "markdown",
   "id": "listed-purchase",
   "metadata": {},
   "source": [
    "Train function"
   ]
  },
  {
   "cell_type": "code",
   "execution_count": 62,
   "id": "lightweight-listing",
   "metadata": {},
   "outputs": [],
   "source": [
    "@tf.function\n",
    "def train_step(inp, targ, enc_hidden):\n",
    "    loss = 0\n",
    "\n",
    "    with tf.GradientTape() as tape:\n",
    "        enc_output, enc_hidden = encoder(inp, enc_hidden)\n",
    "\n",
    "        dec_hidden = enc_hidden\n",
    "\n",
    "        dec_input = tf.expand_dims([AU_to_ID['SOS']] * BATCH_SIZE, 1)\n",
    "\n",
    "        # Teacher forcing - feeding the target as the next input\n",
    "        for t in range(1, targ.shape[1]):\n",
    "            # passing enc_output to the decoder\n",
    "            predictions, dec_hidden, _ = decoder(dec_input, dec_hidden, enc_output)\n",
    "\n",
    "            loss += loss_function(targ[:, t], predictions)\n",
    "\n",
    "            # using teacher forcing\n",
    "            dec_input = tf.expand_dims(targ[:, t], 1)\n",
    "\n",
    "    batch_loss = (loss / int(targ.shape[1]))\n",
    "\n",
    "    variables = encoder.trainable_variables + decoder.trainable_variables\n",
    "\n",
    "    gradients = tape.gradient(loss, variables)\n",
    "\n",
    "    optimizer.apply_gradients(zip(gradients, variables))\n",
    "\n",
    "    return batch_loss\n",
    "\n",
    "\n",
    "\n"
   ]
  },
  {
   "cell_type": "code",
   "execution_count": 63,
   "id": "arctic-marker",
   "metadata": {},
   "outputs": [],
   "source": [
    "@tf.function\n",
    "def validation_step(inp, targ, enc_hidden):\n",
    "    loss = 0\n",
    "\n",
    "    enc_output, enc_hidden = encoder(inp, enc_hidden)\n",
    "\n",
    "    dec_hidden = enc_hidden\n",
    "\n",
    "    dec_input = tf.expand_dims([AU_to_ID['SOS']] * BATCH_SIZE, 1)\n",
    "\n",
    "    # Teacher forcing - feeding the target as the next input\n",
    "    for t in range(1, targ.shape[1]):\n",
    "        # passing enc_output to the decoder\n",
    "        predictions, dec_hidden, _ = decoder(dec_input, dec_hidden, enc_output)\n",
    "\n",
    "        loss += loss_function(targ[:, t], predictions)\n",
    "\n",
    "        # using teacher forcing\n",
    "        dec_input = tf.expand_dims(targ[:, t], 1)\n",
    "\n",
    "    batch_loss = (loss / int(targ.shape[1]))\n",
    "\n",
    "    return batch_loss"
   ]
  },
  {
   "cell_type": "code",
   "execution_count": 65,
   "id": "toxic-occurrence",
   "metadata": {
    "scrolled": false
   },
   "outputs": [
    {
     "name": "stderr",
     "output_type": "stream",
     "text": [
      "  0%|                                                                                            | 0/5 [00:00<?, ?it/s]\n",
      "0it [00:00, ?it/s]\u001b[A\n",
      "1it [00:09,  9.38s/it]\u001b[A"
     ]
    },
    {
     "name": "stdout",
     "output_type": "stream",
     "text": [
      "Epoch 1 Batch 0 Loss 2.9627\n"
     ]
    },
    {
     "name": "stderr",
     "output_type": "stream",
     "text": [
      "\n",
      "2it [00:18,  9.20s/it]\u001b[A\n",
      "3it [00:27,  9.16s/it]\u001b[A\n",
      "4it [00:36,  9.20s/it]\u001b[A\n",
      "5it [00:46,  9.25s/it]\u001b[A\n",
      "6it [00:55,  9.31s/it]\u001b[A\n",
      "7it [01:05,  9.40s/it]\u001b[A\n",
      "8it [01:15,  9.58s/it]\u001b[A\n",
      "9it [01:24,  9.54s/it]\u001b[A\n",
      "10it [01:34,  9.53s/it]\u001b[A\n",
      "11it [01:43,  9.48s/it]\u001b[A\n",
      "12it [01:52,  9.42s/it]\u001b[A\n",
      "\n",
      "0it [00:00, ?it/s]\u001b[A\n",
      "1it [00:02,  2.91s/it]\u001b[A\n",
      " 20%|████████████████▌                                                                  | 1/5 [01:55<07:43, 115.91s/it]\n",
      "0it [00:00, ?it/s]\u001b[A"
     ]
    },
    {
     "name": "stdout",
     "output_type": "stream",
     "text": [
      "Epoch 1 Loss 3.7407\n",
      "Time taken for 1 epoch 115.91215395927429 sec\n",
      "\n"
     ]
    },
    {
     "name": "stderr",
     "output_type": "stream",
     "text": [
      "\n",
      "1it [00:09,  9.58s/it]\u001b[A"
     ]
    },
    {
     "name": "stdout",
     "output_type": "stream",
     "text": [
      "Epoch 2 Batch 0 Loss 1.1815\n"
     ]
    },
    {
     "name": "stderr",
     "output_type": "stream",
     "text": [
      "\n",
      "2it [00:19,  9.79s/it]\u001b[A\n",
      "3it [00:29,  9.93s/it]\u001b[A\n",
      "4it [00:39,  9.79s/it]\u001b[A\n",
      "5it [00:48,  9.62s/it]\u001b[A\n",
      "6it [00:57,  9.55s/it]\u001b[A\n",
      "7it [01:07,  9.57s/it]\u001b[A\n",
      "8it [01:16,  9.47s/it]\u001b[A\n",
      "9it [01:26,  9.50s/it]\u001b[A\n",
      "10it [01:35,  9.43s/it]\u001b[A\n",
      "11it [01:45,  9.44s/it]\u001b[A\n",
      "12it [01:54,  9.55s/it]\u001b[A\n",
      "\n",
      "0it [00:00, ?it/s]\u001b[A\n",
      "1it [00:02,  2.93s/it]\u001b[A\n",
      " 40%|█████████████████████████████████▏                                                 | 2/5 [03:53<05:51, 117.09s/it]\n",
      "0it [00:00, ?it/s]\u001b[A"
     ]
    },
    {
     "name": "stdout",
     "output_type": "stream",
     "text": [
      "Epoch 2 Loss 1.3693\n",
      "Time taken for 1 epoch 117.92104768753052 sec\n",
      "\n"
     ]
    },
    {
     "name": "stderr",
     "output_type": "stream",
     "text": [
      "\n",
      "1it [00:09,  9.31s/it]\u001b[A"
     ]
    },
    {
     "name": "stdout",
     "output_type": "stream",
     "text": [
      "Epoch 3 Batch 0 Loss 1.2824\n"
     ]
    },
    {
     "name": "stderr",
     "output_type": "stream",
     "text": [
      "\n",
      "2it [00:18,  9.36s/it]\u001b[A\n",
      "3it [00:28,  9.40s/it]\u001b[A\n",
      "4it [00:37,  9.43s/it]\u001b[A\n",
      "5it [00:47,  9.55s/it]\u001b[A\n",
      "6it [00:56,  9.46s/it]\u001b[A\n",
      "7it [01:05,  9.40s/it]\u001b[A\n",
      "8it [01:15,  9.59s/it]\u001b[A\n",
      "9it [01:25,  9.53s/it]\u001b[A\n",
      "10it [01:34,  9.53s/it]\u001b[A\n",
      "11it [01:44,  9.51s/it]\u001b[A\n",
      "12it [01:53,  9.48s/it]\u001b[A\n",
      "\n",
      "0it [00:00, ?it/s]\u001b[A\n",
      "1it [00:02,  2.93s/it]\u001b[A\n",
      " 60%|█████████████████████████████████████████████████▊                                 | 3/5 [05:50<03:53, 116.93s/it]\n",
      "0it [00:00, ?it/s]\u001b[A"
     ]
    },
    {
     "name": "stdout",
     "output_type": "stream",
     "text": [
      "Epoch 3 Loss 1.0739\n",
      "Time taken for 1 epoch 116.74099969863892 sec\n",
      "\n"
     ]
    },
    {
     "name": "stderr",
     "output_type": "stream",
     "text": [
      "\n",
      "1it [00:09,  9.29s/it]\u001b[A"
     ]
    },
    {
     "name": "stdout",
     "output_type": "stream",
     "text": [
      "Epoch 4 Batch 0 Loss 1.1308\n"
     ]
    },
    {
     "name": "stderr",
     "output_type": "stream",
     "text": [
      "\n",
      "2it [00:18,  9.26s/it]\u001b[A\n",
      "3it [00:28,  9.36s/it]\u001b[A\n",
      "4it [00:37,  9.53s/it]\u001b[A\n",
      "5it [00:47,  9.69s/it]\u001b[A\n",
      "6it [00:57,  9.67s/it]\u001b[A\n",
      "7it [01:07,  9.78s/it]\u001b[A\n",
      "8it [01:17,  9.79s/it]\u001b[A\n",
      "9it [01:26,  9.76s/it]\u001b[A\n",
      "10it [01:36,  9.80s/it]\u001b[A\n",
      "11it [01:46,  9.72s/it]\u001b[A\n",
      "12it [01:55,  9.66s/it]\u001b[A\n",
      "\n",
      "0it [00:00, ?it/s]\u001b[A\n",
      "1it [00:02,  2.98s/it]\u001b[A\n",
      " 80%|██████████████████████████████████████████████████████████████████▍                | 4/5 [07:49<01:57, 117.88s/it]\n",
      "0it [00:00, ?it/s]\u001b[A"
     ]
    },
    {
     "name": "stdout",
     "output_type": "stream",
     "text": [
      "Epoch 4 Loss 1.0293\n",
      "Time taken for 1 epoch 119.33600044250488 sec\n",
      "\n"
     ]
    },
    {
     "name": "stderr",
     "output_type": "stream",
     "text": [
      "\n",
      "1it [00:09,  9.37s/it]\u001b[A"
     ]
    },
    {
     "name": "stdout",
     "output_type": "stream",
     "text": [
      "Epoch 5 Batch 0 Loss 0.9279\n"
     ]
    },
    {
     "name": "stderr",
     "output_type": "stream",
     "text": [
      "\n",
      "2it [00:18,  9.34s/it]\u001b[A\n",
      "3it [00:28,  9.33s/it]\u001b[A\n",
      "4it [00:37,  9.45s/it]\u001b[A\n",
      "5it [00:47,  9.43s/it]\u001b[A\n",
      "6it [00:56,  9.51s/it]\u001b[A\n",
      "7it [01:06,  9.68s/it]\u001b[A\n",
      "8it [01:16,  9.84s/it]\u001b[A\n",
      "9it [01:26,  9.78s/it]\u001b[A\n",
      "10it [01:36,  9.77s/it]\u001b[A\n",
      "11it [01:45,  9.66s/it]\u001b[A\n",
      "12it [01:55,  9.60s/it]\u001b[A\n",
      "\n",
      "0it [00:00, ?it/s]\u001b[A\n",
      "1it [00:02,  2.96s/it]\u001b[A\n",
      "100%|███████████████████████████████████████████████████████████████████████████████████| 5/5 [09:48<00:00, 117.63s/it]"
     ]
    },
    {
     "name": "stdout",
     "output_type": "stream",
     "text": [
      "Epoch 5 Loss 0.8654\n",
      "Time taken for 1 epoch 118.21458959579468 sec\n",
      "\n"
     ]
    },
    {
     "name": "stderr",
     "output_type": "stream",
     "text": [
      "\n"
     ]
    }
   ],
   "source": [
    "losses_train = []\n",
    "losses_val = []\n",
    "EPOCHS = 5\n",
    "\n",
    "steps_per_epoch_train = train_dataset.cardinality().numpy()//BATCH_SIZE\n",
    "steps_per_epoch_val = val_dataset.cardinality().numpy()//BATCH_SIZE\n",
    "\n",
    "for epoch in tqdm(range(EPOCHS)):\n",
    "    start = time.time()\n",
    "\n",
    "    enc_hidden = encoder.initialize_hidden_state()\n",
    "    total_loss = 0\n",
    "\n",
    "    for (batch, (inp, targ)) in tqdm(enumerate(train_dataset.take(steps_per_epoch_train))):\n",
    "        batch_loss = train_step(inp, targ, enc_hidden)\n",
    "        total_loss += batch_loss\n",
    "        losses_train.append(batch_loss)\n",
    "\n",
    "        if batch % 20 == 0:\n",
    "            print('Epoch {} Batch {} Loss {:.4f}'.format(epoch + 1,\n",
    "                                                       batch,\n",
    "                                                       batch_loss.numpy()))\n",
    "    # Validation:\n",
    "    for (batch, (inp, targ)) in tqdm(enumerate(val_dataset.take(steps_per_epoch_val))):\n",
    "        batch_val_loss = validation_step(inp, targ, enc_hidden)\n",
    "        losses_val.append(batch_val_loss)\n",
    "        \n",
    "  # saving (checkpoint) the model every 2 epochs\n",
    "    if (epoch + 1) % 2 == 0:\n",
    "        checkpoint.save(file_prefix = checkpoint_prefix)\n",
    "\n",
    "    print('Epoch {} Loss {:.4f}'.format(epoch + 1,\n",
    "                                      total_loss / steps_per_epoch_train))\n",
    "    print('Time taken for 1 epoch {} sec\\n'.format(time.time() - start))"
   ]
  },
  {
   "cell_type": "code",
   "execution_count": 68,
   "id": "signed-filing",
   "metadata": {},
   "outputs": [
    {
     "data": {
      "image/png": "[encoded data removed]",
      "text/plain": [
       "<Figure size 432x288 with 1 Axes>"
      ]
     },
     "metadata": {
      "needs_background": "light"
     },
     "output_type": "display_data"
    }
   ],
   "source": [
    "t_train = np.linspace(0, EPOCHS, len(losses_train))\n",
    "t_val = np.linspace(0, EPOCHS, len(losses_val))\n",
    "\n",
    "plt.plot(t_train, losses_train, label='Train Loss')\n",
    "plt.plot(t_val, losses_val, label='Validation Loss')\n",
    "plt.legend()\n",
    "plt.show()"
   ]
  },
  {
   "cell_type": "code",
   "execution_count": 74,
   "id": "spatial-twins",
   "metadata": {},
   "outputs": [],
   "source": [
    "def evaluate(sequence):\n",
    "    max_length_targ = 100\n",
    "    max_length_inp = 100\n",
    "    attention_plot = np.zeros((max_length_targ, max_length_inp))\n",
    "\n",
    "    inputs = sequence\n",
    "    result = np.zeros(max_length_targ, dtype=int)\n",
    "\n",
    "    hidden = [tf.zeros((1, units))]\n",
    "    enc_out, enc_hidden = encoder(inputs, hidden)\n",
    "\n",
    "    dec_hidden = enc_hidden\n",
    "    dec_input = tf.expand_dims([AU_to_ID['SOS']], 0)\n",
    "\n",
    "    for t in range(max_length_targ):\n",
    "        predictions, dec_hidden, attention_weights = decoder(dec_input,\n",
    "                                                             dec_hidden,\n",
    "                                                             enc_out)\n",
    "\n",
    "        # storing the attention weights to plot later on\n",
    "        attention_weights = tf.reshape(attention_weights, (-1, ))\n",
    "        attention_plot[t] = attention_weights.numpy()\n",
    "\n",
    "        predicted_id = tf.argmax(predictions[0]).numpy()\n",
    "\n",
    "        result[t] = predicted_id\n",
    "\n",
    "        if ID_to_AU[predicted_id] == 'EOS':\n",
    "            return result, sentence, attention_plot\n",
    "\n",
    "    # the predicted ID is fed back into the model\n",
    "        dec_input = tf.expand_dims([predicted_id], 0)\n",
    "\n",
    "    return result, attention_plot"
   ]
  },
  {
   "cell_type": "code",
   "execution_count": 100,
   "id": "soviet-corps",
   "metadata": {},
   "outputs": [],
   "source": [
    "@tf.function\n",
    "def evaluation_step(inp, targ, enc_hidden):\n",
    "    loss = 0\n",
    "    \n",
    "    enc_output, enc_hidden = encoder(inp, enc_hidden)\n",
    "\n",
    "    dec_hidden = enc_hidden\n",
    "\n",
    "    dec_input = tf.expand_dims([AU_to_ID['SOS']] * BATCH_SIZE, 1)\n",
    "\n",
    "    # Teacher forcing - feeding the target as the next input\n",
    "    preds = np.zeros_like(inp)\n",
    "    for t in range(1, targ.shape[1]):\n",
    "        # passing enc_output to the decoder\n",
    "        predictions, dec_hidden, _ = decoder(dec_input, dec_hidden, enc_output)\n",
    "\n",
    "        loss += loss_function(targ[:, t], predictions)\n",
    "        predicted_id = tf.argmax(predictions, axis=1).numpy()\n",
    "        preds[:,t] = predicted_id\n",
    "\n",
    "    batch_loss = (loss / int(targ.shape[1]))\n",
    "\n",
    "    return batch_loss, preds"
   ]
  },
  {
   "cell_type": "code",
   "execution_count": 102,
   "id": "separated-discovery",
   "metadata": {},
   "outputs": [
    {
     "name": "stderr",
     "output_type": "stream",
     "text": [
      "1it [00:02,  2.87s/it]\n"
     ]
    }
   ],
   "source": [
    "steps_per_epoch_test = test_dataset.cardinality().numpy()//BATCH_SIZE\n",
    "\n",
    "\n",
    "enc_hidden = encoder.initialize_hidden_state()\n",
    "total_loss = 0\n",
    "\n",
    "predictions = []\n",
    "for (batch, (inp, targ)) in tqdm(enumerate(test_dataset.take(steps_per_epoch_test))):\n",
    "    batch_loss_test, preds = evaluation_step(inp, targ, enc_hidden)\n",
    "    total_loss += batch_loss_test\n",
    "    predictions.append(preds)"
   ]
  },
  {
   "cell_type": "code",
   "execution_count": 103,
   "id": "covered-trial",
   "metadata": {},
   "outputs": [
    {
     "name": "stdout",
     "output_type": "stream",
     "text": [
      "Test loss 1.698737382888794\n"
     ]
    }
   ],
   "source": [
    "print(f'Test loss {total_loss}')"
   ]
  },
  {
   "cell_type": "code",
   "execution_count": 109,
   "id": "ready-rider",
   "metadata": {
    "scrolled": true
   },
   "outputs": [
    {
     "data": {
      "text/plain": [
       "[<matplotlib.lines.Line2D at 0x1660052c340>]"
      ]
     },
     "execution_count": 109,
     "metadata": {},
     "output_type": "execute_result"
    },
    {
     "data": {
      "image/png": "[encoded data removed]",
      "text/plain": [
       "<Figure size 432x288 with 1 Axes>"
      ]
     },
     "metadata": {
      "needs_background": "light"
     },
     "output_type": "display_data"
    }
   ],
   "source": [
    "plt.plot(targ[2])\n",
    "plt.plot(preds[2])"
   ]
  }
 ],
 "metadata": {
  "kernelspec": {
   "display_name": "Python 3",
   "language": "python",
   "name": "python3"
  },
  "language_info": {
   "codemirror_mode": {
    "name": "ipython",
    "version": 3
   },
   "file_extension": ".py",
   "mimetype": "text/x-python",
   "name": "python",
   "nbconvert_exporter": "python",
   "pygments_lexer": "ipython3",
   "version": "3.8.5"
  },
  "toc": {
   "base_numbering": 1,
   "nav_menu": {},
   "number_sections": true,
   "sideBar": true,
   "skip_h1_title": false,
   "title_cell": "Table of Contents",
   "title_sidebar": "Contents",
   "toc_cell": false,
   "toc_position": {},
   "toc_section_display": true,
   "toc_window_display": false
  }
 },
 "nbformat": 4,
 "nbformat_minor": 5
}
